{
 "cells": [
  {
   "cell_type": "code",
   "execution_count": 1,
   "metadata": {},
   "outputs": [
    {
     "name": "stdout",
     "output_type": "stream",
     "text": [
      "Hello, world!\n"
     ]
    }
   ],
   "source": [
    "print(\"Hello, world!\")"
   ]
  },
  {
   "cell_type": "code",
   "execution_count": 16,
   "metadata": {},
   "outputs": [],
   "source": [
    "def move(px, py,vx,vy,t):\n",
    "    global grid\n",
    "    time=0\n",
    "    x=len(grid[0])\n",
    "    y=len(grid)\n",
    "    while time<t:\n",
    "        px+=vx\n",
    "        py+=vy\n",
    "        time+=1\n",
    "\n",
    "    return px%101,py%103\n"
   ]
  },
  {
   "cell_type": "code",
   "execution_count": 17,
   "metadata": {},
   "outputs": [
    {
     "name": "stdout",
     "output_type": "stream",
     "text": [
      "211692000\n"
     ]
    }
   ],
   "source": [
    "#Problem 1\n",
    "\n",
    "import re\n",
    "grid=[[\".\" for _ in range(101)] for _ in range(103)]\n",
    "ans=1\n",
    "quad1=0\n",
    "quad2=0\n",
    "quad3=0\n",
    "quad4=0\n",
    "with open(\"inputd14.txt\") as file:\n",
    "    for line in file:\n",
    "        p,v=line.split(\" \")\n",
    "        px,py=list(map(int,re.findall(r\"-?\\d+\",p)))\n",
    "        vx,vy=list(map(int,re.findall(r\"-?\\d+\",v)))\n",
    "        px,py=move(px,py,vx,vy,100)\n",
    "        midx=len(grid[0])//2\n",
    "        midy=len(grid)//2\n",
    "        if px<midx and py<midy:\n",
    "            quad1+=1\n",
    "        elif px>midx and py<midy:\n",
    "            quad2+=1\n",
    "        elif px<midx and py>midy:\n",
    "            quad3+=1\n",
    "        elif px>midx and py>midy:\n",
    "            quad4+=1\n",
    "    \n",
    "ans=quad1*quad2*quad3*quad4\n",
    "            \n",
    "    \n",
    "print(ans)"
   ]
  },
  {
   "cell_type": "code",
   "execution_count": 18,
   "metadata": {},
   "outputs": [
    {
     "name": "stderr",
     "output_type": "stream",
     "text": [
      "100%|██████████| 10000/10000 [17:04<00:00,  9.76it/s]"
     ]
    },
    {
     "name": "stdout",
     "output_type": "stream",
     "text": [
      "85742820 6587\n"
     ]
    },
    {
     "name": "stderr",
     "output_type": "stream",
     "text": [
      "\n"
     ]
    }
   ],
   "source": [
    "#Problem 2\n",
    "\n",
    "import re\n",
    "import os\n",
    "from PIL import Image\n",
    "import numpy as np\n",
    "import copy\n",
    "from tqdm import tqdm\n",
    "\n",
    "grid=[[\" \" for _ in range(101)] for _ in range(103)]\n",
    "ans=1\n",
    "quad1=0\n",
    "quad2=0\n",
    "quad3=0\n",
    "quad4=0\n",
    "data=[]\n",
    "with open(\"inputd14.txt\") as file:\n",
    "    for line in file:\n",
    "        p,v=line.split(\" \")\n",
    "        px,py=list(map(int,re.findall(r\"-?\\d+\",p)))\n",
    "        vx,vy=list(map(int,re.findall(r\"-?\\d+\",v)))\n",
    "        data.append([px,py,vx,vy])\n",
    "\n",
    "flag=1e15\n",
    "for t in tqdm(range(10000)):\n",
    "    gridc=copy.deepcopy(grid)\n",
    "    p=1\n",
    "    quad1=0\n",
    "    quad2=0\n",
    "    quad3=0\n",
    "    quad4=0\n",
    "    for x in data:\n",
    "        px,py,vx,vy=x[0],x[1],x[2],x[3]\n",
    "        px,py=move(px,py,vx,vy,t)\n",
    "        midx=len(gridc[0])//2\n",
    "        midy=len(gridc)//2\n",
    "        if px<midx and py<midy:\n",
    "            quad1+=1\n",
    "        elif px>midx and py<midy:\n",
    "            quad2+=1\n",
    "        elif px<midx and py>midy:\n",
    "            quad3+=1\n",
    "        elif px>midx and py>midy:\n",
    "            quad4+=1\n",
    "    p=quad1*quad2*quad3*quad4\n",
    "    if p<flag:\n",
    "        flag,value_t=p,t\n",
    "\n",
    "print(flag, value_t)"
   ]
  },
  {
   "cell_type": "code",
   "execution_count": null,
   "metadata": {},
   "outputs": [],
   "source": [
    "#Problem 2 bruteforce hehe\n",
    "\n",
    "import re\n",
    "import os\n",
    "from PIL import Image\n",
    "import numpy as np\n",
    "import copy\n",
    "\n",
    "grid=[[\" \" for _ in range(101)] for _ in range(103)]\n",
    "data=[]\n",
    "with open(\"inputd14.txt\") as file:\n",
    "    for line in file:\n",
    "        p,v=line.split(\" \")\n",
    "        px,py=list(map(int,re.findall(r\"-?\\d+\",p)))\n",
    "        vx,vy=list(map(int,re.findall(r\"-?\\d+\",v)))\n",
    "        data.append([px,py,vx,vy])\n",
    "\n",
    "output_dir = r\"D:\\AOC-2024\\output\"\n",
    "for t in range(20000):\n",
    "    gridc=copy.deepcopy(grid)\n",
    "    for x in data:\n",
    "        px,py,vx,vy=x[0],x[1],x[2],x[3]\n",
    "        px,py=move(px,py,vx,vy,t,grid)\n",
    "        gridc[py][px]=\"#\"\n",
    "\n",
    "    # Convert gridc to an image\n",
    "    height = len(gridc)\n",
    "    width = len(gridc[0])\n",
    "    img = Image.new(\"RGB\", (width, height), color=\"white\")\n",
    "    pixels = img.load()\n",
    "\n",
    "    for y in range(height):\n",
    "        for x in range(width):\n",
    "            if gridc[y][x] == \"#\":\n",
    "                pixels[x, y] = (0, 0, 0)  # Black for filled pixels\n",
    "\n",
    "    img.save(os.path.join(output_dir, f\"output_step_{t}.png\"))\n",
    "\n",
    "    #6857"
   ]
  }
 ],
 "metadata": {
  "kernelspec": {
   "display_name": "Python 3",
   "language": "python",
   "name": "python3"
  },
  "language_info": {
   "codemirror_mode": {
    "name": "ipython",
    "version": 3
   },
   "file_extension": ".py",
   "mimetype": "text/x-python",
   "name": "python",
   "nbconvert_exporter": "python",
   "pygments_lexer": "ipython3",
   "version": "3.12.5"
  }
 },
 "nbformat": 4,
 "nbformat_minor": 2
}
