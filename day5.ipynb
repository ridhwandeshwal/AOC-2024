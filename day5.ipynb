{
 "cells": [
  {
   "cell_type": "code",
   "execution_count": 3,
   "metadata": {},
   "outputs": [
    {
     "name": "stdout",
     "output_type": "stream",
     "text": [
      "Hello, world!\n"
     ]
    }
   ],
   "source": [
    "print(\"Hello, world!\")"
   ]
  },
  {
   "cell_type": "code",
   "execution_count": 4,
   "metadata": {},
   "outputs": [],
   "source": [
    "def in_order(checklist,l,i):\n",
    "    for j in range(i+1,len(l)):\n",
    "        if l[j] not in checklist:\n",
    "            return False\n",
    "    return True\n",
    "\n",
    "def follows_rules(l,dict):\n",
    "    for i in range(len(l)-1):\n",
    "        try:\n",
    "            checklist=dict[l[i]]\n",
    "            if in_order(checklist,l,i):\n",
    "                i+=1\n",
    "                continue\n",
    "            else:\n",
    "                return False\n",
    "        except KeyError:\n",
    "            return False\n",
    "    return True"
   ]
  },
  {
   "cell_type": "code",
   "execution_count": 5,
   "metadata": {},
   "outputs": [
    {
     "name": "stdout",
     "output_type": "stream",
     "text": [
      "4872\n"
     ]
    }
   ],
   "source": [
    "#Problem 1\n",
    "\n",
    "count=0\n",
    "dict = {}\n",
    "\n",
    "with open(\"inputd5rule.txt\",\"r\") as file:\n",
    "    for line in file:\n",
    "        n1=int(line[0:2])\n",
    "        n2=int(line[3:5])\n",
    "        if n1 in dict.keys():\n",
    "            dict[n1].append(n2)\n",
    "        else:\n",
    "            l=[]\n",
    "            dict[n1]=l\n",
    "            l.append(n2)\n",
    "\n",
    "with open(\"inputd5order.txt\",\"r\") as file1:\n",
    "    for line in file1:\n",
    "        x=line.split(\",\")\n",
    "        l=[]\n",
    "        for a in x:\n",
    "            l.append(int(a))\n",
    "        if follows_rules(l,dict):\n",
    "            count+=l[len(l)//2]\n",
    "\n",
    "print(count)\n"
   ]
  },
  {
   "cell_type": "code",
   "execution_count": 6,
   "metadata": {},
   "outputs": [],
   "source": [
    "def sort(l,rules):\n",
    "    while True:\n",
    "        sorted=True\n",
    "        for i in range(len(l)-1):\n",
    "            if (l[i+1],l[i]) in rules:\n",
    "                sorted=False\n",
    "                l[i],l[i+1]=l[i+1],l[i]\n",
    "        if sorted:\n",
    "            return l"
   ]
  },
  {
   "cell_type": "code",
   "execution_count": 7,
   "metadata": {},
   "outputs": [
    {
     "name": "stdout",
     "output_type": "stream",
     "text": [
      "5564\n"
     ]
    }
   ],
   "source": [
    "#Problem 2\n",
    "        \n",
    "count=0\n",
    "rules=[]\n",
    "with open(\"inputd5rule.txt\",\"r\") as file:\n",
    "    for line in file:\n",
    "        a,b=line.split(\"|\")\n",
    "        rules.append((int(a),int(b)))\n",
    "\n",
    "\n",
    "with open(\"inputd5order.txt\",\"r\") as file1:\n",
    "    for line in file1:\n",
    "        x=line.split(\",\")\n",
    "        l=[]\n",
    "        for a in x:\n",
    "            l.append(int(a))\n",
    "        if not follows_rules(l,dict):\n",
    "            sorted_l=sort(l,rules)\n",
    "            count+=sorted_l[len(sorted_l)//2]\n",
    "\n",
    "print(count)\n"
   ]
  }
 ],
 "metadata": {
  "kernelspec": {
   "display_name": "Python 3",
   "language": "python",
   "name": "python3"
  },
  "language_info": {
   "codemirror_mode": {
    "name": "ipython",
    "version": 3
   },
   "file_extension": ".py",
   "mimetype": "text/x-python",
   "name": "python",
   "nbconvert_exporter": "python",
   "pygments_lexer": "ipython3",
   "version": "3.12.5"
  }
 },
 "nbformat": 4,
 "nbformat_minor": 2
}
