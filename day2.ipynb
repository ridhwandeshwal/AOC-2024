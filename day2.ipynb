{
 "cells": [
  {
   "cell_type": "code",
   "execution_count": 5,
   "metadata": {},
   "outputs": [
    {
     "name": "stdout",
     "output_type": "stream",
     "text": [
      "Hello, world!\n"
     ]
    }
   ],
   "source": [
    "print(\"Hello, world!\")\n"
   ]
  },
  {
   "cell_type": "code",
   "execution_count": null,
   "metadata": {},
   "outputs": [],
   "source": [
    "def is_safe(l):\n",
    "    if l[0]-l[1]>0:\n",
    "        for x in range(len(l)-1):\n",
    "            if 0<l[x]-l[x+1]<4:\n",
    "                continue\n",
    "            else:\n",
    "                return False\n",
    "            \n",
    "    elif l[0]-l[1]<0:\n",
    "        for x in range(len(l)-1):\n",
    "            if 0<l[x+1]-l[x]<4:\n",
    "                continue\n",
    "            else:\n",
    "                return False\n",
    "    else:\n",
    "        return False\n",
    "    \n",
    "    return True\n",
    "\n",
    "def is_half_safe(l):\n",
    "    if l[0]-l[1]>0:\n",
    "        for x in range(len(l)-1):\n",
    "            if 0<l[x]-l[x+1]<4:\n",
    "                continue\n",
    "            else:\n",
    "                l1=l.copy()\n",
    "                l2=l.copy()\n",
    "                l3=l.copy()\n",
    "                l1.pop(x+1)\n",
    "                l2.pop(x)\n",
    "                l3.pop(x-1)\n",
    "                if is_safe(l1):\n",
    "                    return True\n",
    "                elif is_safe(l2):\n",
    "                    return True\n",
    "                elif is_safe(l3):\n",
    "                    return True\n",
    "                else:\n",
    "                    return False\n",
    "            \n",
    "    elif l[0]-l[1]<0:\n",
    "        for x in range(len(l)-1):\n",
    "            if 0<l[x+1]-l[x]<4:\n",
    "                continue\n",
    "            else:\n",
    "                l1=l.copy()\n",
    "                l2=l.copy()\n",
    "                l3=l.copy()\n",
    "                l1.pop(x+1)\n",
    "                l2.pop(x)\n",
    "                l3.pop(x-1)\n",
    "                if is_safe(l1):\n",
    "                    return True\n",
    "                elif is_safe(l2):\n",
    "                    return True\n",
    "                elif is_safe(l3):\n",
    "                    return True\n",
    "                else:\n",
    "                    return False\n",
    "    else:\n",
    "        l1=l.copy()\n",
    "        l1.pop(0)\n",
    "        if is_safe(l1):\n",
    "            return True\n",
    "        else:\n",
    "            return False\n",
    "    \n",
    "    return True\n",
    "\n"
   ]
  },
  {
   "cell_type": "code",
   "execution_count": 7,
   "metadata": {},
   "outputs": [
    {
     "name": "stdout",
     "output_type": "stream",
     "text": [
      "463\n"
     ]
    }
   ],
   "source": [
    "#Problem 1\n",
    "\n",
    "count=0\n",
    "with open(\"inputd2.txt\",\"r\") as file:\n",
    "    for line in file:\n",
    "        l=[int(a) for a in line.split()]\n",
    "\n",
    "        if is_safe(l):\n",
    "            count+=1\n",
    "\n",
    "\n",
    "print(count)"
   ]
  },
  {
   "cell_type": "code",
   "execution_count": 8,
   "metadata": {},
   "outputs": [
    {
     "name": "stdout",
     "output_type": "stream",
     "text": [
      "514\n"
     ]
    }
   ],
   "source": [
    "#Problem 2\n",
    "\n",
    "count=0\n",
    "with open(\"inputd2.txt\",\"r\") as file:\n",
    "    for line in file:\n",
    "        l=[int(a) for a in line.split()]\n",
    "\n",
    "        if is_half_safe(l):\n",
    "            count+=1\n",
    "\n",
    "\n",
    "print(count)"
   ]
  }
 ],
 "metadata": {
  "kernelspec": {
   "display_name": "Python 3",
   "language": "python",
   "name": "python3"
  },
  "language_info": {
   "codemirror_mode": {
    "name": "ipython",
    "version": 3
   },
   "file_extension": ".py",
   "mimetype": "text/x-python",
   "name": "python",
   "nbconvert_exporter": "python",
   "pygments_lexer": "ipython3",
   "version": "3.12.5"
  }
 },
 "nbformat": 4,
 "nbformat_minor": 2
}
