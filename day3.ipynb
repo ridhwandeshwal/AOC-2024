{
 "cells": [
  {
   "cell_type": "code",
   "execution_count": 1,
   "metadata": {},
   "outputs": [
    {
     "name": "stdout",
     "output_type": "stream",
     "text": [
      "Hello, world!\n"
     ]
    }
   ],
   "source": [
    "print(\"Hello, world!\")\n"
   ]
  },
  {
   "cell_type": "code",
   "execution_count": 63,
   "metadata": {},
   "outputs": [
    {
     "name": "stdout",
     "output_type": "stream",
     "text": [
      "180233229\n"
     ]
    }
   ],
   "source": [
    "#Problem 1\n",
    "\n",
    "count=0\n",
    "import re\n",
    "with open(\"inputd3.txt\",\"r\") as file:\n",
    "    for line in file:\n",
    "        l = re.findall(r\"mul\\((\\d+),(\\d+)\\)\", line)\n",
    "        for x in l:\n",
    "            count += int(x[0])*int(x[1])\n",
    "print(count)"
   ]
  },
  {
   "cell_type": "code",
   "execution_count": 64,
   "metadata": {},
   "outputs": [
    {
     "name": "stdout",
     "output_type": "stream",
     "text": [
      "95411583\n"
     ]
    }
   ],
   "source": [
    "#Problem 2\n",
    "\n",
    "count=0\n",
    "import re\n",
    "with open(\"inputd3.txt\",\"r\") as file:\n",
    "    \n",
    "    line = file.read()\n",
    "    \n",
    "l = re.findall(r\"mul\\((\\d+),(\\d+)\\)|(do\\(\\)|don't\\(\\))\", line)\n",
    "e=True\n",
    "for x in l:\n",
    "    if x[2]==\"\" and e:\n",
    "        count += int(x[0])*int(x[1])\n",
    "    else:\n",
    "        if x[2]==\"do()\":\n",
    "            e=True\n",
    "        else:\n",
    "            e=False\n",
    "\n",
    "\n",
    "print(count)"
   ]
  },
  {
   "cell_type": "code",
   "execution_count": null,
   "metadata": {},
   "outputs": [],
   "source": []
  }
 ],
 "metadata": {
  "kernelspec": {
   "display_name": "Python 3",
   "language": "python",
   "name": "python3"
  },
  "language_info": {
   "codemirror_mode": {
    "name": "ipython",
    "version": 3
   },
   "file_extension": ".py",
   "mimetype": "text/x-python",
   "name": "python",
   "nbconvert_exporter": "python",
   "pygments_lexer": "ipython3",
   "version": "3.12.5"
  }
 },
 "nbformat": 4,
 "nbformat_minor": 2
}
