{
 "cells": [
  {
   "cell_type": "code",
   "execution_count": 1,
   "metadata": {},
   "outputs": [
    {
     "name": "stdout",
     "output_type": "stream",
     "text": [
      "Hello, world!\n"
     ]
    }
   ],
   "source": [
    "print(\"Hello, world!\")"
   ]
  },
  {
   "cell_type": "code",
   "execution_count": 52,
   "metadata": {},
   "outputs": [
    {
     "name": "stdout",
     "output_type": "stream",
     "text": [
      "94432\n"
     ]
    },
    {
     "name": "stderr",
     "output_type": "stream",
     "text": [
      "94432it [02:28, 635.49it/s] "
     ]
    },
    {
     "name": "stdout",
     "output_type": "stream",
     "text": [
      "6200294120911\n"
     ]
    },
    {
     "name": "stderr",
     "output_type": "stream",
     "text": [
      "\n"
     ]
    }
   ],
   "source": [
    "#Problem 1\n",
    "\n",
    "sum=0\n",
    "from tqdm import tqdm\n",
    "\n",
    "with open(\"inputd9.txt\") as file:\n",
    "    disk=list(file.read())\n",
    "\n",
    "formatdisk=[]\n",
    "for i,j in enumerate(disk):\n",
    "    if i%2==0:\n",
    "        for a in range(int(j)):\n",
    "            formatdisk.append(str(int(i/2)))\n",
    "    else:\n",
    "        for a in range(int(j)):\n",
    "            formatdisk.append(\".\")\n",
    "            \n",
    "print(len(formatdisk))\n",
    "for i,x in tqdm(enumerate(formatdisk)):\n",
    "    if x==\".\":\n",
    "        r=-1\n",
    "        while len(formatdisk)+r>i:\n",
    "            if formatdisk[r].isdigit():\n",
    "                formatdisk[i],formatdisk[r]=formatdisk[r],formatdisk[i]\n",
    "                break\n",
    "            else:\n",
    "                r-=1\n",
    "\n",
    "for i,x in enumerate(formatdisk):\n",
    "    if x.isdigit():\n",
    "        sum+=i*int(x)\n",
    "\n",
    "print(sum)"
   ]
  },
  {
   "cell_type": "code",
   "execution_count": null,
   "metadata": {},
   "outputs": [],
   "source": [
    "def remove_comma(s):\n",
    "    l=s.strip().split(\",\")\n",
    "    s=\"\"\n",
    "    for x in l:\n",
    "        s+=x[0] #Treat each file like a single digit only as it only takes spot of a single free space regardless of number of digits\n",
    "    return(s)\n"
   ]
  },
  {
   "cell_type": "code",
   "execution_count": 54,
   "metadata": {},
   "outputs": [
    {
     "name": "stdout",
     "output_type": "stream",
     "text": [
      "6227018762750\n"
     ]
    }
   ],
   "source": [
    "#Problem 2\n",
    "\n",
    "sum=0\n",
    "\n",
    "with open(\"inputd9.txt\") as file:\n",
    "    disk=list(file.read())\n",
    "\n",
    "formatdisk=[]\n",
    "for i,j in enumerate(disk):\n",
    "    if i%2==0:\n",
    "        for a in range(int(j)):\n",
    "            formatdisk.append(str(int(i/2)))\n",
    "    else:\n",
    "        for a in range(int(j)):\n",
    "            formatdisk.append(\".\")\n",
    "\n",
    "i=-1\n",
    "while len(formatdisk)+i>0:\n",
    "    p=len(formatdisk[i-1])\n",
    "    if formatdisk[i][:p]==formatdisk[i-1]:\n",
    "        if formatdisk[i][0].isdigit():\n",
    "            formatdisk[i-1]=formatdisk[i] + \",\" + formatdisk[i-1]\n",
    "            formatdisk.pop(i)\n",
    "        else:\n",
    "            formatdisk[i-1]=formatdisk[i] + formatdisk[i-1]\n",
    "            formatdisk.pop(i)\n",
    "    else:\n",
    "        i-=1\n",
    "\n",
    "i=-1\n",
    "\n",
    "while len(formatdisk)+i>0:\n",
    "    if formatdisk[i][0].isdigit():\n",
    "        og_i=formatdisk[i]\n",
    "        formatdisk[i]=remove_comma(formatdisk[i])\n",
    "        swapped=False\n",
    "        for inx,a in enumerate(formatdisk):\n",
    "            if inx<len(formatdisk)+i: #free spaces should be on left of the file\n",
    "                if a[0]==\".\":\n",
    "                    if len(a)>len(formatdisk[i]):\n",
    "                        diff=len(a)-len(formatdisk[i])\n",
    "                        formatdisk[inx],formatdisk[i]=formatdisk[i],formatdisk[inx]\n",
    "                        formatdisk.insert(inx+1,a[:diff])\n",
    "                        formatdisk[i]=a[:len(formatdisk[inx])]\n",
    "                        formatdisk[inx]=og_i\n",
    "                        swapped=True\n",
    "                        break\n",
    "                    elif len(a)==len(formatdisk[i]):\n",
    "                        formatdisk[inx],formatdisk[i]=formatdisk[i],formatdisk[inx]\n",
    "                        formatdisk[inx]=og_i\n",
    "                        swapped=True\n",
    "                        break\n",
    "        if not swapped:\n",
    "            formatdisk[i]=og_i\n",
    "        i-=1\n",
    "        \n",
    "        # print(len(formatdisk)+i)\n",
    "    else:\n",
    "        i-=1\n",
    "        # print(len(formatdisk)+i)\n",
    "\n",
    "\n",
    "finalformatdisk=[]\n",
    "for z in formatdisk:\n",
    "    if z[0].isdigit():\n",
    "        for x in z.split(\",\"):\n",
    "            finalformatdisk.append(x)\n",
    "    else:\n",
    "        for x in z:\n",
    "            finalformatdisk.append(x)\n",
    "\n",
    "for i,x in enumerate(finalformatdisk):\n",
    "    if x.isdigit():\n",
    "        sum+=i*int(x)\n",
    "print(sum)"
   ]
  }
 ],
 "metadata": {
  "kernelspec": {
   "display_name": "Python 3",
   "language": "python",
   "name": "python3"
  },
  "language_info": {
   "codemirror_mode": {
    "name": "ipython",
    "version": 3
   },
   "file_extension": ".py",
   "mimetype": "text/x-python",
   "name": "python",
   "nbconvert_exporter": "python",
   "pygments_lexer": "ipython3",
   "version": "3.12.5"
  }
 },
 "nbformat": 4,
 "nbformat_minor": 2
}
