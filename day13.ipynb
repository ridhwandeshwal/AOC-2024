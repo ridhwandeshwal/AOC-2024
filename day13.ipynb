{
 "cells": [
  {
   "cell_type": "code",
   "execution_count": 1,
   "metadata": {},
   "outputs": [
    {
     "name": "stdout",
     "output_type": "stream",
     "text": [
      "Hello, world!\n"
     ]
    }
   ],
   "source": [
    "print(\"Hello, world!\")"
   ]
  },
  {
   "cell_type": "code",
   "execution_count": 1,
   "metadata": {},
   "outputs": [],
   "source": [
    "def tokens(dxA,dyA,dxB,dyB,x,y):\n",
    "    values=set()\n",
    "    for i in range(100):\n",
    "        for j in range(100):\n",
    "            xx= i*dxA + j*dxB\n",
    "            yy= i*dyA + j*dyB\n",
    "            if xx==x and yy==y:\n",
    "                values.add((i,j))\n",
    "    return values\n"
   ]
  },
  {
   "cell_type": "code",
   "execution_count": null,
   "metadata": {},
   "outputs": [
    {
     "name": "stdout",
     "output_type": "stream",
     "text": [
      "36758\n"
     ]
    }
   ],
   "source": [
    "#Problem 1\n",
    "\n",
    "import re\n",
    "sum=0\n",
    "with open(\"inputd13.txt\") as file:\n",
    "    data=file.read().strip().split(\"\\n\\n\")\n",
    "\n",
    "for x in data:\n",
    "    l=list(map(int,re.findall(r\"\\d+\",x)))\n",
    "    # print(l)\n",
    "    dxA=l[0]\n",
    "    dyA=l[1]\n",
    "    dxB=l[2]\n",
    "    dyB=l[3]\n",
    "    x=l[4]\n",
    "    y=l[5]\n",
    "    for i,j in tokens(dxA,dyA,dxB,dyB,x,y):\n",
    "        sum+=3*i+j\n",
    "\n",
    "print(sum)"
   ]
  },
  {
   "cell_type": "code",
   "execution_count": 3,
   "metadata": {},
   "outputs": [
    {
     "name": "stdout",
     "output_type": "stream",
     "text": [
      "76358113886726\n"
     ]
    }
   ],
   "source": [
    "#Problem 2\n",
    "\n",
    "import re\n",
    "sum=0\n",
    "with open(\"inputd13.txt\") as file:\n",
    "    data=file.read().strip().split(\"\\n\\n\")\n",
    "\n",
    "for x in data:\n",
    "    l=list(map(int,re.findall(r\"\\d+\",x)))\n",
    "    # print(l)\n",
    "    dxA=l[0]\n",
    "    dyA=l[1]\n",
    "    dxB=l[2]\n",
    "    dyB=l[3]\n",
    "    x=l[4]+10000000000000\n",
    "    y=l[5]+10000000000000\n",
    "\n",
    "    # i*dxA + j*dxB=x\n",
    "    # i*dyA + j*dyB=y\n",
    "\n",
    "    i=(x*dyB-y*dxB)/(dyB*dxA-dxB*dyA)\n",
    "    j=(y-i*dyA)/dyB\n",
    "\n",
    "    if int(i)==i and int(j)==j:\n",
    "        sum+=int(3*i+j)\n",
    "\n",
    "print(sum)\n"
   ]
  },
  {
   "cell_type": "code",
   "execution_count": null,
   "metadata": {},
   "outputs": [],
   "source": []
  }
 ],
 "metadata": {
  "kernelspec": {
   "display_name": "Python 3",
   "language": "python",
   "name": "python3"
  },
  "language_info": {
   "codemirror_mode": {
    "name": "ipython",
    "version": 3
   },
   "file_extension": ".py",
   "mimetype": "text/x-python",
   "name": "python",
   "nbconvert_exporter": "python",
   "pygments_lexer": "ipython3",
   "version": "3.12.5"
  }
 },
 "nbformat": 4,
 "nbformat_minor": 2
}
