{
 "cells": [
  {
   "cell_type": "code",
   "execution_count": 1,
   "metadata": {},
   "outputs": [
    {
     "name": "stdout",
     "output_type": "stream",
     "text": [
      "Hello, world!\n"
     ]
    }
   ],
   "source": [
    "print(\"Hello, world!\")"
   ]
  },
  {
   "cell_type": "code",
   "execution_count": null,
   "metadata": {},
   "outputs": [],
   "source": [
    "\n",
    "def is_XMAS(i, matrix):\n",
    "    sum = 0\n",
    "    directions = [\n",
    "        [0, 1], [0, -1], [1, 0], [1, 1],\n",
    "        [1, -1], [-1, 0], [-1, 1], [-1, -1]\n",
    "    ]\n",
    "\n",
    "    rows, cols = len(matrix), len(matrix[0])\n",
    "\n",
    "    for direction in directions:\n",
    "        x1, y1 = i[0] + direction[0], i[1] + direction[1]\n",
    "        if 0 <= x1 < rows and 0 <= y1 < cols and matrix[x1][y1] == \"M\":\n",
    "            x2, y2 = x1 + direction[0], y1 + direction[1]\n",
    "            if 0 <= x2 < rows and 0 <= y2 < cols and matrix[x2][y2] == \"A\":\n",
    "                x3, y3 = x2 + direction[0], y2 + direction[1]\n",
    "                if 0 <= x3 < rows and 0 <= y3 < cols and matrix[x3][y3] == \"S\":\n",
    "                    sum += 1\n",
    "\n",
    "    return sum\n",
    "\n"
   ]
  },
  {
   "cell_type": "code",
   "execution_count": null,
   "metadata": {},
   "outputs": [
    {
     "name": "stdout",
     "output_type": "stream",
     "text": [
      "2551\n"
     ]
    }
   ],
   "source": [
    "# Problem 1\n",
    "\n",
    "count=0\n",
    "matrix=[]\n",
    "with open(\"inputd4.txt\",\"r\") as file:\n",
    "    for line in file:\n",
    "        matrix.append(line)\n",
    "\n",
    "for x in matrix:\n",
    "    for i, l in enumerate(x):\n",
    "        list2=[]\n",
    "        if l==\"X\":\n",
    "            list2.append(matrix.index(x))\n",
    "            list2.append(i)\n",
    "            if is_XMAS(list2,matrix):\n",
    "                count+=is_XMAS(list2,matrix)\n",
    "print(count)"
   ]
  },
  {
   "cell_type": "code",
   "execution_count": null,
   "metadata": {},
   "outputs": [],
   "source": [
    "def is_MAS(i,matrix):\n",
    "    rows, cols = len(matrix), len(matrix[0]) \n",
    "    if not (1 <= i[0] < rows - 1 and 1 <= i[1] < cols - 1):\n",
    "        return False\n",
    "    \n",
    "    d1=f\"{matrix[i[0]-1][i[1]-1]}{matrix[i[0]+1][i[1]+1]}\"\n",
    "    d2=f\"{matrix[i[0]-1][i[1]+1]}{matrix[i[0]+1][i[1]-1]}\"\n",
    "    \n",
    "    l=[\"MS\",\"SM\"]\n",
    "\n",
    "    if d1 in l and d2 in l:\n",
    "        return True"
   ]
  },
  {
   "cell_type": "code",
   "execution_count": null,
   "metadata": {},
   "outputs": [
    {
     "name": "stdout",
     "output_type": "stream",
     "text": [
      "1985\n"
     ]
    }
   ],
   "source": [
    "#Problem 2\n",
    "\n",
    "count=0\n",
    "matrix=[]\n",
    "with open(\"inputd4.txt\",\"r\") as file:\n",
    "    for line in file:\n",
    "        matrix.append(line)\n",
    "\n",
    "for x in matrix:\n",
    "    for i, l in enumerate(x):\n",
    "        list2=[]\n",
    "        if l==\"A\":\n",
    "            # print(l,matrix.index(x),i)\n",
    "            list2.append(matrix.index(x))\n",
    "            list2.append(i)\n",
    "            try:\n",
    "                if is_MAS(list2,matrix):\n",
    "                    count+=1\n",
    "            except IndexError:\n",
    "                pass\n",
    "print(count)"
   ]
  }
 ],
 "metadata": {
  "kernelspec": {
   "display_name": "Python 3",
   "language": "python",
   "name": "python3"
  },
  "language_info": {
   "codemirror_mode": {
    "name": "ipython",
    "version": 3
   },
   "file_extension": ".py",
   "mimetype": "text/x-python",
   "name": "python",
   "nbconvert_exporter": "python",
   "pygments_lexer": "ipython3",
   "version": "3.12.5"
  }
 },
 "nbformat": 4,
 "nbformat_minor": 2
}
