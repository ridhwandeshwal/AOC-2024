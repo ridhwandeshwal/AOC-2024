{
 "cells": [
  {
   "cell_type": "code",
   "execution_count": 2,
   "metadata": {},
   "outputs": [
    {
     "name": "stdout",
     "output_type": "stream",
     "text": [
      "Hello, world!\n"
     ]
    }
   ],
   "source": [
    "print(\"Hello, world!\")"
   ]
  },
  {
   "cell_type": "code",
   "execution_count": 6,
   "metadata": {},
   "outputs": [],
   "source": [
    "from itertools import product\n",
    "\n",
    "def evaluatep1(numbers,ops):\n",
    "\n",
    "    result=numbers[0]\n",
    "\n",
    "    for i in range(len(ops)):\n",
    "        if ops[i] == \"+\":\n",
    "            result+=numbers[i+1]\n",
    "        elif ops[i] == \"*\":\n",
    "            result*=numbers[i+1]\n",
    "    return result\n",
    "    \n",
    "def is_validp1(target,numbers):\n",
    "    n=len(numbers)\n",
    "    ops_combinations= product([\"+\",\"*\"], repeat=n-1)\n",
    "\n",
    "    for ops in ops_combinations:\n",
    "        if evaluatep1(numbers, ops) == target:\n",
    "            return True\n",
    "\n"
   ]
  },
  {
   "cell_type": "code",
   "execution_count": null,
   "metadata": {},
   "outputs": [
    {
     "name": "stdout",
     "output_type": "stream",
     "text": [
      "1153997401072\n"
     ]
    }
   ],
   "source": [
    "#Problem 1\n",
    "\n",
    "dict = {}\n",
    "with open(\"inputd7.txt\") as file:\n",
    "    for line in file:\n",
    "        nums=line.split(\":\")\n",
    "        target=int(nums[0])\n",
    "        values=[int(n) for n in nums[1].strip().split(\" \")]\n",
    "        dict[target] = values\n",
    "\n",
    "sum=0\n",
    "for x in (dict):\n",
    "    if is_validp1(x,dict[x]):\n",
    "        sum+=x\n",
    "\n",
    "print(sum)"
   ]
  },
  {
   "cell_type": "code",
   "execution_count": 8,
   "metadata": {},
   "outputs": [],
   "source": [
    "from itertools import product\n",
    "\n",
    "def evaluatep2(numbers,ops):\n",
    "\n",
    "    result=numbers[0]\n",
    "\n",
    "    for i in range(len(ops)):\n",
    "        if ops[i] == \"+\":\n",
    "            result+=numbers[i+1]\n",
    "        elif ops[i] == \"*\":\n",
    "            result*=numbers[i+1]\n",
    "        elif ops[i] == \"||\":\n",
    "            result=int(str(result)+str(numbers[i+1]))\n",
    "    return result\n",
    "    \n",
    "def is_validp2(target,numbers):\n",
    "    n=len(numbers)\n",
    "    ops_combinations= product([\"+\",\"*\",\"||\"], repeat=n-1)\n",
    "\n",
    "    for ops in ops_combinations:\n",
    "        if evaluatep2(numbers, ops) == target:\n",
    "            return True\n"
   ]
  },
  {
   "cell_type": "code",
   "execution_count": null,
   "metadata": {},
   "outputs": [
    {
     "name": "stdout",
     "output_type": "stream",
     "text": [
      "97902809384118\n"
     ]
    }
   ],
   "source": [
    "#Problem 2\n",
    "\n",
    "dict = {}\n",
    "with open(\"inputd7.txt\") as file:\n",
    "    for line in file:\n",
    "        nums=line.split(\":\")\n",
    "        target=int(nums[0])\n",
    "        values=[int(n) for n in nums[1].strip().split(\" \")]\n",
    "        dict[target] = values\n",
    "\n",
    "sum=0\n",
    "for x in (dict):\n",
    "    if is_validp2(x,dict[x]):\n",
    "        sum+=x\n",
    "\n",
    "print(sum)"
   ]
  }
 ],
 "metadata": {
  "kernelspec": {
   "display_name": "Python 3",
   "language": "python",
   "name": "python3"
  },
  "language_info": {
   "codemirror_mode": {
    "name": "ipython",
    "version": 3
   },
   "file_extension": ".py",
   "mimetype": "text/x-python",
   "name": "python",
   "nbconvert_exporter": "python",
   "pygments_lexer": "ipython3",
   "version": "3.12.5"
  }
 },
 "nbformat": 4,
 "nbformat_minor": 2
}
