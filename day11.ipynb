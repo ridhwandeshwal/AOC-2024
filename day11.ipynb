{
 "cells": [
  {
   "cell_type": "code",
   "execution_count": 1,
   "metadata": {},
   "outputs": [
    {
     "name": "stdout",
     "output_type": "stream",
     "text": [
      "Hello, world!\n"
     ]
    }
   ],
   "source": [
    "print(\"Hello, world!\")"
   ]
  },
  {
   "cell_type": "code",
   "execution_count": null,
   "metadata": {},
   "outputs": [
    {
     "name": "stdout",
     "output_type": "stream",
     "text": [
      "194482\n"
     ]
    }
   ],
   "source": [
    "#Problem 1\n",
    "\n",
    "with open(\"inputd11.txt\") as file:\n",
    "    for line in file:\n",
    "        l=list(map(int,line.split()))\n",
    "a=0\n",
    "while a<25:\n",
    "    i=0\n",
    "    while i<len(l):\n",
    "        if l[i]==0:\n",
    "            l[i]=1\n",
    "            i+=1\n",
    "        elif len(str(l[i]))%2==0:\n",
    "            x=str(l[i])\n",
    "            h=len(x)//2\n",
    "            l.insert(i+1,int(x[h:]))\n",
    "            l[i]=int(x[:h])\n",
    "            i+=2\n",
    "        else:\n",
    "            l[i]=l[i]*2024\n",
    "            i+=1\n",
    "    a+=1\n",
    "\n",
    "print(len(l))"
   ]
  },
  {
   "cell_type": "code",
   "execution_count": 3,
   "metadata": {},
   "outputs": [],
   "source": [
    "d={}\n",
    "def ans(x, n):\n",
    "    if n == 0:\n",
    "        return 1\n",
    "    if (x, n) not in d:\n",
    "        if x == 0:\n",
    "            result = ans(1, n - 1)\n",
    "        elif len(str(x)) % 2 == 0:\n",
    "            x = str(x)\n",
    "            result = 0\n",
    "            result += ans(int(x[:len(x)//2]), n - 1)\n",
    "            result += ans(int(x[len(x)//2:]), n - 1)\n",
    "        else:\n",
    "            result = ans(2024 * x, n - 1)\n",
    "        d[(x, n)] = result\n",
    "    return d[(x, n)]\n"
   ]
  },
  {
   "cell_type": "code",
   "execution_count": 4,
   "metadata": {},
   "outputs": [
    {
     "name": "stdout",
     "output_type": "stream",
     "text": [
      "232454623677743\n"
     ]
    }
   ],
   "source": [
    "#Problem 2\n",
    "\n",
    "sum=0\n",
    "with open(\"inputd11.txt\") as file:\n",
    "    for line in file:\n",
    "        l=list(map(int,line.split()))\n",
    "\n",
    "for x in l:\n",
    "    sum+=ans(x,75)\n",
    "\n",
    "print(sum)"
   ]
  },
  {
   "cell_type": "code",
   "execution_count": null,
   "metadata": {},
   "outputs": [],
   "source": []
  }
 ],
 "metadata": {
  "kernelspec": {
   "display_name": "Python 3",
   "language": "python",
   "name": "python3"
  },
  "language_info": {
   "codemirror_mode": {
    "name": "ipython",
    "version": 3
   },
   "file_extension": ".py",
   "mimetype": "text/x-python",
   "name": "python",
   "nbconvert_exporter": "python",
   "pygments_lexer": "ipython3",
   "version": "3.12.5"
  }
 },
 "nbformat": 4,
 "nbformat_minor": 2
}
