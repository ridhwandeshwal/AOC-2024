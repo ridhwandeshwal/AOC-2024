{
 "cells": [
  {
   "cell_type": "code",
   "execution_count": 1,
   "metadata": {},
   "outputs": [
    {
     "name": "stdout",
     "output_type": "stream",
     "text": [
      "Hello, world!\n"
     ]
    }
   ],
   "source": [
    "print(\"Hello, world!\")"
   ]
  },
  {
   "cell_type": "code",
   "execution_count": 4,
   "metadata": {},
   "outputs": [],
   "source": [
    "def dist(a,b):\n",
    "    if a>=b:\n",
    "        return a-b\n",
    "    else:\n",
    "        return b-a\n"
   ]
  },
  {
   "cell_type": "code",
   "execution_count": 12,
   "metadata": {},
   "outputs": [
    {
     "name": "stdout",
     "output_type": "stream",
     "text": [
      "2176849\n"
     ]
    }
   ],
   "source": [
    "#Problem 1\n",
    "\n",
    "l1=[]\n",
    "l2=[]\n",
    "diff=[]\n",
    "\n",
    "with open(\"inputd1.txt\",\"r\") as file:\n",
    "    for line in file:\n",
    "        l1.append(int(str(line[0])+str(line[1])+str(line[2])+str(line[3])+str(line[4])))\n",
    "        l2.append(int(str(line[8])+str(line[9])+str(line[10])+str(line[11])+str(line[12])))\n",
    "l1.sort()\n",
    "l2.sort()\n",
    "for x in range(1000):\n",
    "    diff.append(dist(l1[x],l2[x]))\n",
    "sum=0\n",
    "for x in diff:\n",
    "    sum+=x\n",
    "\n",
    "print(sum)\n"
   ]
  },
  {
   "cell_type": "code",
   "execution_count": 25,
   "metadata": {},
   "outputs": [
    {
     "name": "stdout",
     "output_type": "stream",
     "text": [
      "23384288\n"
     ]
    }
   ],
   "source": [
    "#Problem 2\n",
    "\n",
    "l1=[]\n",
    "l2=[]\n",
    "\n",
    "with open(\"inputd1.txt\",\"r\") as file:\n",
    "    for line in file:\n",
    "        l1.append(int(str(line[0])+str(line[1])+str(line[2])+str(line[3])+str(line[4])))\n",
    "        l2.append(int(str(line[8])+str(line[9])+str(line[10])+str(line[11])+str(line[12])))\n",
    "\n",
    "sim=0\n",
    "for x in l1:\n",
    "    sim+=x*l2.count(x)\n",
    "\n",
    "print(sim)"
   ]
  }
 ],
 "metadata": {
  "kernelspec": {
   "display_name": "Python 3",
   "language": "python",
   "name": "python3"
  },
  "language_info": {
   "codemirror_mode": {
    "name": "ipython",
    "version": 3
   },
   "file_extension": ".py",
   "mimetype": "text/x-python",
   "name": "python",
   "nbconvert_exporter": "python",
   "pygments_lexer": "ipython3",
   "version": "3.12.5"
  }
 },
 "nbformat": 4,
 "nbformat_minor": 2
}
