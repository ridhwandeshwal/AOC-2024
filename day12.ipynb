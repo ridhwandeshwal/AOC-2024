{
 "cells": [
  {
   "cell_type": "code",
   "execution_count": 1,
   "metadata": {},
   "outputs": [
    {
     "name": "stdout",
     "output_type": "stream",
     "text": [
      "Hello, world!\n"
     ]
    }
   ],
   "source": [
    "print(\"Hello, world!\")"
   ]
  },
  {
   "cell_type": "code",
   "execution_count": 3,
   "metadata": {},
   "outputs": [
    {
     "name": "stdout",
     "output_type": "stream",
     "text": [
      "1304764\n"
     ]
    }
   ],
   "source": [
    "#Problem 1\n",
    "\n",
    "grid=[]\n",
    "with open(\"inputd12.txt\") as file:\n",
    "    for line in file:\n",
    "        grid.append(list(line.strip()))\n",
    "\n",
    "w, h = len(grid[0]), len(grid)\n",
    "get = lambda x, y: '.' if x < 0 or y < 0 or x >= w or y >= h else grid[y][x]\n",
    "\n",
    "DIRS = [(0, 1), (0, -1), (1, 0), (-1, 0)]\n",
    "\n",
    "def score(x, y, c, seen):\n",
    "    if (x, y) in seen or get(x, y) != c:\n",
    "        return 0, 0\n",
    "    seen.add((x, y))\n",
    "    a, p = 1, 0\n",
    "    for dx, dy in DIRS:\n",
    "        if get(x + dx, y + dy) != c:\n",
    "            p += 1\n",
    "        else:\n",
    "            result = score(x + dx, y + dy, c, seen)\n",
    "            a += result[0]\n",
    "            p += result[1]\n",
    "    return a, p\n",
    "\n",
    "total = 0\n",
    "seen = set()\n",
    "for y in range(h):\n",
    "    for x in range(w):\n",
    "        c = get(x, y)\n",
    "        a, p = score(x, y, c, seen)\n",
    "        total += a * p\n",
    "print(total)"
   ]
  },
  {
   "cell_type": "code",
   "execution_count": null,
   "metadata": {},
   "outputs": [
    {
     "name": "stdout",
     "output_type": "stream",
     "text": [
      "811148\n"
     ]
    }
   ],
   "source": [
    "#Problem 2\n",
    "\n",
    "grid=[]\n",
    "with open(\"inputd12.txt\") as file:\n",
    "    for line in file:\n",
    "        grid.append(list(line.strip()))\n",
    "\n",
    "w, h = len(grid[0]), len(grid)\n",
    "get = lambda x, y: '.' if x < 0 or y < 0 or x >= w or y >= h else grid[y][x]\n",
    "\n",
    "DIRS = [(0, 1), (0, -1), (1, 0), (-1, 0)]\n",
    "\n",
    "def score(x, y, c, seen):\n",
    "    if (x, y) in seen or get(x, y) != c:\n",
    "        return 0, 0\n",
    "    seen.add((x, y))\n",
    "    a, p = 1, 0\n",
    "    for dx, dy in DIRS:\n",
    "        if get(x + dx, y + dy) != c:\n",
    "            p += 1\n",
    "            if (dx,dy) == (0,1) and get(x+1, y) == c and get(x+1,y+1)!=c:\n",
    "                p -= 1\n",
    "            if (dx,dy) == (0,-1) and get(x+1, y) == c and get(x+1,y-1)!=c:\n",
    "                p -= 1\n",
    "            if (dx,dy) == (1,0) and get(x, y+1) == c and get(x+1,y+1)!=c:\n",
    "                p -= 1\n",
    "            if (dx,dy) == (-1,0) and get(x, y+1) == c and get(x-1,y+1)!=c:\n",
    "                p -= 1\n",
    "        else:\n",
    "            result = score(x + dx, y + dy, c, seen)\n",
    "            a += result[0]\n",
    "            p += result[1]\n",
    "    return a, p\n",
    "\n",
    "total = 0\n",
    "seen = set()\n",
    "for y in range(h):\n",
    "    for x in range(w):\n",
    "        c = get(x, y)\n",
    "        a, p = score(x, y, c, seen)\n",
    "        total += a * p\n",
    "print(total)\n"
   ]
  },
  {
   "cell_type": "code",
   "execution_count": null,
   "metadata": {},
   "outputs": [],
   "source": []
  }
 ],
 "metadata": {
  "kernelspec": {
   "display_name": "Python 3",
   "language": "python",
   "name": "python3"
  },
  "language_info": {
   "codemirror_mode": {
    "name": "ipython",
    "version": 3
   },
   "file_extension": ".py",
   "mimetype": "text/x-python",
   "name": "python",
   "nbconvert_exporter": "python",
   "pygments_lexer": "ipython3",
   "version": "3.12.5"
  }
 },
 "nbformat": 4,
 "nbformat_minor": 2
}
