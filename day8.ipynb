{
 "cells": [
  {
   "cell_type": "code",
   "execution_count": 1,
   "metadata": {},
   "outputs": [
    {
     "name": "stdout",
     "output_type": "stream",
     "text": [
      "Hello, world!\n"
     ]
    }
   ],
   "source": [
    "print(\"Hello, world!\")"
   ]
  },
  {
   "cell_type": "code",
   "execution_count": null,
   "metadata": {},
   "outputs": [
    {
     "name": "stdout",
     "output_type": "stream",
     "text": [
      "394\n"
     ]
    }
   ],
   "source": [
    "#Problem 1\n",
    "\n",
    "grid=[]\n",
    "count=0\n",
    "with open(\"inputd8.txt\") as file:\n",
    "    for line in file:\n",
    "        grid.append(list(line.strip()))\n",
    "\n",
    "rows=len(grid)\n",
    "cols=len(grid[0])\n",
    "\n",
    "seen=set()\n",
    "for i in range(rows):\n",
    "    for j in range(cols):\n",
    "        if grid[i][j] !=\".\":\n",
    "            seen.add((i,j,grid[i][j]))\n",
    "    \n",
    "for x1,y1,freq1 in seen:\n",
    "    for x2, y2, freq2 in seen:\n",
    "        if freq1 == freq2 and (x1,y1)!=(x2,y2):\n",
    "            dx, dy= x2-x1, y2-y1\n",
    "            x11, y11 = x1-dx, y1-dy\n",
    "            if 0<=x11<rows and 0<=y11<cols:\n",
    "                    grid[x11][y11]=\"#\"\n",
    "            x22, y22 = x2+dx, y2+dy  \n",
    "            if 0<=x22<rows and 0<=y22<cols:\n",
    "                grid[x22][y22]=\"#\"     \n",
    "\n",
    "for i in range(rows):\n",
    "    for j in range(cols):\n",
    "        if grid[i][j]==\"#\":\n",
    "            count+=1\n",
    "\n",
    "print(count)"
   ]
  },
  {
   "cell_type": "code",
   "execution_count": null,
   "metadata": {},
   "outputs": [
    {
     "name": "stdout",
     "output_type": "stream",
     "text": [
      "1277\n"
     ]
    }
   ],
   "source": [
    "#Problem 2\n",
    "\n",
    "grid=[]\n",
    "count=0\n",
    "with open(\"inputd8.txt\") as file:\n",
    "    for line in file:\n",
    "        grid.append(list(line.strip()))\n",
    "\n",
    "rows=len(grid)\n",
    "cols=len(grid[0])\n",
    "\n",
    "seen=set()\n",
    "for i in range(rows):\n",
    "    for j in range(cols):\n",
    "        if grid[i][j] !=\".\":\n",
    "            seen.add((i,j,grid[i][j]))\n",
    "    \n",
    "for x1,y1,freq1 in seen:\n",
    "    for x2, y2, freq2 in seen:\n",
    "        if freq1 == freq2 and (x1,y1)!=(x2,y2):\n",
    "            dx, dy= x2-x1, y2-y1\n",
    "            i=0\n",
    "            while True:\n",
    "                x11, y11=x1-(i*dx), y1-(i*dy)\n",
    "                if 0<=x11<rows and 0<=y11<cols:\n",
    "                    grid[x11][y11]=\"#\"\n",
    "                    i+=1\n",
    "                else:\n",
    "                    break\n",
    "            while True:\n",
    "                x22, y22=x2+(i*dx), y2+(i*dy)\n",
    "                if 0<=x22<rows and 0<=y22<cols:\n",
    "                    grid[x22][y22]=\"#\"\n",
    "                    i+=1\n",
    "                else:\n",
    "                    break\n",
    "for i in range(rows):\n",
    "    for j in range(cols):\n",
    "        if grid[i][j]==\"#\":\n",
    "            count+=1\n",
    "\n",
    "print(count)"
   ]
  }
 ],
 "metadata": {
  "kernelspec": {
   "display_name": "Python 3",
   "language": "python",
   "name": "python3"
  },
  "language_info": {
   "codemirror_mode": {
    "name": "ipython",
    "version": 3
   },
   "file_extension": ".py",
   "mimetype": "text/x-python",
   "name": "python",
   "nbconvert_exporter": "python",
   "pygments_lexer": "ipython3",
   "version": "3.12.5"
  }
 },
 "nbformat": 4,
 "nbformat_minor": 2
}
