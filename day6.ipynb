{
 "cells": [
  {
   "cell_type": "code",
   "execution_count": 6,
   "metadata": {},
   "outputs": [
    {
     "name": "stdout",
     "output_type": "stream",
     "text": [
      "Hello, world!\n"
     ]
    }
   ],
   "source": [
    "print(\"Hello, world!\")"
   ]
  },
  {
   "cell_type": "code",
   "execution_count": 7,
   "metadata": {},
   "outputs": [],
   "source": [
    "def move_up(i,j,grid):\n",
    "    if grid[i-1][j]==\"#\":\n",
    "        return False\n",
    "    elif grid[i-1][j]==\".\":\n",
    "        return True \n",
    "    elif grid[i-1][j]==\"X\":\n",
    "        return True \n",
    "\n",
    "def move_right(i,j,grid):\n",
    "    if grid[i][j+1]==\"#\":\n",
    "        return False\n",
    "    elif grid[i][j+1]==\".\":\n",
    "        return True\n",
    "    elif grid[i][j+1]==\"X\":\n",
    "        return True\n",
    "    \n",
    "def move_down(i,j,grid):\n",
    "    if grid[i+1][j]==\"#\":\n",
    "        return False\n",
    "    elif grid[i+1][j]==\".\":\n",
    "        return True \n",
    "    elif grid[i+1][j]==\"X\":\n",
    "        return True \n",
    "    \n",
    "def move_left(i,j,grid):\n",
    "    if grid[i][j-1]==\"#\":\n",
    "        return False\n",
    "    elif grid[i][j-1]==\".\":\n",
    "        return True \n",
    "    elif grid[i][j-1]==\"X\":\n",
    "        return True \n"
   ]
  },
  {
   "cell_type": "code",
   "execution_count": 10,
   "metadata": {},
   "outputs": [],
   "source": [
    "def move(grid,i,j):\n",
    "    count=0\n",
    "    visited_states = set()\n",
    "\n",
    "    while True:\n",
    "        try:\n",
    "\n",
    "            if 0<=i<130 and 0<=j<130:\n",
    "            \n",
    "                current_state = (i, j, grid[i][j])\n",
    "                if current_state in visited_states:\n",
    "                    print(f\"Infinite loop detected at {current_state}\")\n",
    "                    return False\n",
    "                visited_states.add(current_state)\n",
    "                if grid[i][j]==\"^\":\n",
    "                    if move_up(i,j,grid):\n",
    "                        grid[i-1][j]=\"^\"\n",
    "                        grid[i][j]=\"X\"\n",
    "                        i=i-1\n",
    "                    else:\n",
    "                        grid[i][j]=\">\"\n",
    "                        \n",
    "                elif grid[i][j]==\"v\":\n",
    "                    if move_down(i,j,grid):\n",
    "                        grid[i+1][j]=\"v\"\n",
    "                        grid[i][j]=\"X\"\n",
    "                        i=i+1\n",
    "                    else:\n",
    "                        grid[i][j]=\"<\"\n",
    "                        \n",
    "                elif grid[i][j]==\">\":\n",
    "                    if move_right(i,j,grid):\n",
    "                        grid[i][j+1]=\">\"\n",
    "                        grid[i][j]=\"X\"\n",
    "                        j=j+1\n",
    "                    else:\n",
    "                        grid[i][j]=\"v\"\n",
    "                        \n",
    "                elif grid[i][j]==\"<\":\n",
    "                    if move_left(i,j,grid):\n",
    "                        grid[i][j-1]=\"<\"\n",
    "                        grid[i][j]=\"X\"\n",
    "                        j=j-1\n",
    "                    else:\n",
    "                        grid[i][j]=\"^\"\n",
    "                        \n",
    "            else:\n",
    "                grid[i][j]=\".\"\n",
    "                for x in grid:\n",
    "                    for i in x:\n",
    "                        if i==\"X\":\n",
    "                            count+=1\n",
    "                print(count)\n",
    "                return True\n",
    "        except IndexError:\n",
    "            grid[i][j]=\"X\"\n",
    "            for x in grid:\n",
    "                for i in x:\n",
    "                    if i==\"X\":\n",
    "                        count+=1\n",
    "            print(count)\n",
    "            return True"
   ]
  },
  {
   "cell_type": "code",
   "execution_count": 13,
   "metadata": {},
   "outputs": [
    {
     "name": "stdout",
     "output_type": "stream",
     "text": [
      "5242\n"
     ]
    },
    {
     "data": {
      "text/plain": [
       "True"
      ]
     },
     "execution_count": 13,
     "metadata": {},
     "output_type": "execute_result"
    }
   ],
   "source": [
    "#Problem 1\n",
    "\n",
    "grid=[]\n",
    "\n",
    "with open(\"inputd6.txt\") as file:\n",
    "    for line in file:\n",
    "        grid.append(list(line.strip()))\n",
    "\n",
    "i=94\n",
    "j=73\n",
    "\n",
    "move(grid,i,j)"
   ]
  },
  {
   "cell_type": "code",
   "execution_count": 15,
   "metadata": {},
   "outputs": [
    {
     "name": "stdout",
     "output_type": "stream",
     "text": [
      "5242\n"
     ]
    }
   ],
   "source": [
    "#Better solution for Problem 1\n",
    "\n",
    "with open(\"inputd6.txt\") as file:\n",
    "    grid=file.read().split(\"\\n\")\n",
    "\n",
    "n=len(grid)\n",
    "m=len(grid[0])\n",
    "\n",
    "found = False\n",
    "for i in range(n):\n",
    "    for j in range(m):\n",
    "        if grid[i][j] == \"^\":\n",
    "            found = True\n",
    "            break\n",
    "\n",
    "    if found:\n",
    "        break\n",
    "\n",
    "dir=0\n",
    "dd= [[-1,0],[0,1],[1,0],[0,-1]]\n",
    "\n",
    "seen=set()\n",
    "while True:\n",
    "    seen.add((i,j))\n",
    "    next_i= i + dd[dir][0]\n",
    "    next_j= j + dd[dir][1]\n",
    "\n",
    "    if not (0 <= next_i < n and 0 <= next_j < m):\n",
    "        break\n",
    "\n",
    "    if grid[next_i][next_j] == '#':\n",
    "        dir= (dir+1) % 4\n",
    "        \n",
    "    else:\n",
    "        i,j= next_i, next_j\n",
    "\n",
    "print(len(seen))\n"
   ]
  },
  {
   "cell_type": "code",
   "execution_count": 14,
   "metadata": {},
   "outputs": [
    {
     "name": "stdout",
     "output_type": "stream",
     "text": [
      "1424\n"
     ]
    }
   ],
   "source": [
    "# Problem 2\n",
    "\n",
    "\n",
    "with open(\"inputd6.txt\") as fil:\n",
    "    grid = [list(line) for line in fil.read().split(\"\\n\")]\n",
    "\n",
    "n = len(grid)\n",
    "m = len(grid[0])\n",
    "\n",
    "found = False\n",
    "for i in range(n):\n",
    "    for j in range(m):\n",
    "        if grid[i][j] == \"^\":\n",
    "            found = True\n",
    "            break\n",
    "\n",
    "    if found:\n",
    "        break\n",
    "\n",
    "ii = i\n",
    "jj = j\n",
    "\n",
    "dd = [[-1, 0], [0, 1], [1, 0], [0, -1]]\n",
    "\n",
    "dir = 0\n",
    "o_seen = set()\n",
    "while True:\n",
    "    o_seen.add((i, j))\n",
    "\n",
    "    next_i = i + dd[dir][0]\n",
    "    next_j = j + dd[dir][1]\n",
    "\n",
    "    if not (0 <= next_i < n and 0 <= next_j < n):\n",
    "        break\n",
    "\n",
    "    if grid[next_i][next_j] == \"#\":\n",
    "        dir = (dir + 1) % 4\n",
    "    else:\n",
    "        i, j = next_i, next_j\n",
    "\n",
    "def will_loop(oi, oj):\n",
    "    \n",
    "    grid[oi][oj] = \"#\"\n",
    "    i, j = ii, jj\n",
    "\n",
    "    dir = 0\n",
    "    seen = set()\n",
    "    while True:\n",
    "        if (i, j, dir) in seen:\n",
    "            grid[oi][oj] = \".\"\n",
    "            return True\n",
    "        seen.add((i, j, dir))\n",
    "\n",
    "        next_i = i + dd[dir][0]\n",
    "        next_j = j + dd[dir][1]\n",
    "\n",
    "        if not (0 <= next_i < n and 0 <= next_j < n):\n",
    "            grid[oi][oj] = \".\"\n",
    "            return False\n",
    "\n",
    "        if grid[next_i][next_j] == \"#\":\n",
    "            dir = (dir + 1) % 4\n",
    "        else:\n",
    "            i, j = next_i, next_j\n",
    "\n",
    "ans = 0\n",
    "for oi, oj in o_seen:\n",
    "    loop = will_loop(oi, oj)\n",
    "    ans += loop\n",
    "\n",
    "print(ans)"
   ]
  }
 ],
 "metadata": {
  "kernelspec": {
   "display_name": "Python 3",
   "language": "python",
   "name": "python3"
  },
  "language_info": {
   "codemirror_mode": {
    "name": "ipython",
    "version": 3
   },
   "file_extension": ".py",
   "mimetype": "text/x-python",
   "name": "python",
   "nbconvert_exporter": "python",
   "pygments_lexer": "ipython3",
   "version": "3.12.5"
  }
 },
 "nbformat": 4,
 "nbformat_minor": 2
}
