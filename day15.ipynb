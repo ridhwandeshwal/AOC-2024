{
 "cells": [
  {
   "cell_type": "code",
   "execution_count": 1,
   "metadata": {},
   "outputs": [
    {
     "name": "stdout",
     "output_type": "stream",
     "text": [
      "Hello, world!\n"
     ]
    }
   ],
   "source": [
    "print(\"Hello, world!\")"
   ]
  },
  {
   "cell_type": "code",
   "execution_count": 8,
   "metadata": {},
   "outputs": [],
   "source": [
    "def swap(a,b,c,d,grid):\n",
    "    grid[a][b],grid[c][d]=grid[c][d],grid[a][b]\n",
    "\n",
    "def push(i,j,dir,grid):\n",
    "    x=i+dir[0]\n",
    "    y=j+dir[1]\n",
    "    while grid[x][y]==\"O\":\n",
    "        x+=dir[0]\n",
    "        y+=dir[1]\n",
    "    if grid[x][y]==\".\":\n",
    "        diff=max(abs(x-i),abs(y-j))\n",
    "        for a in range(diff):\n",
    "            swap(x,y,x-dir[0],y-dir[1],grid)\n",
    "            x-=dir[0]\n",
    "            y-=dir[1]\n",
    "        return i+dir[0],j+dir[1]\n",
    "    else:\n",
    "        return i,j\n",
    "\n",
    "def move(i,j,dir,grid):\n",
    "    x=i+dir[0]\n",
    "    y=j+dir[1]\n",
    "    if grid[x][y]==\".\":\n",
    "        grid[x][y],grid[i][j]=\"@\",\".\"\n",
    "        # i,j=x,y\n",
    "        return x,y\n",
    "    elif grid[x][y]==\"O\":\n",
    "        return push(i,j,dir,grid)\n",
    "    elif grid[x][y]==\"#\":\n",
    "        return i,j\n",
    "\n",
    "def pos(i,j,grid,instructions):\n",
    "    directions=[[0,1],[1,0],[0,-1],[-1,0]]\n",
    "    for x in instructions:\n",
    "        if x==\"^\":\n",
    "            dir=directions[3]\n",
    "            i,j=move(i,j,dir,grid)\n",
    "        elif x==\"v\":\n",
    "            dir=directions[1]\n",
    "            i,j=move(i,j,dir,grid)\n",
    "        elif x==\"<\":\n",
    "            dir=directions[2]\n",
    "            i,j=move(i,j,dir,grid)\n",
    "        elif x==\">\":\n",
    "            dir=directions[0]\n",
    "            i,j=move(i,j,dir,grid)"
   ]
  },
  {
   "cell_type": "code",
   "execution_count": 9,
   "metadata": {},
   "outputs": [
    {
     "name": "stdout",
     "output_type": "stream",
     "text": [
      "1436690\n"
     ]
    }
   ],
   "source": [
    "#Problem 1\n",
    "\n",
    "with open(\"inputd15.txt\") as file:\n",
    "    x,instructions=file.read().split(\"\\n\\n\")\n",
    "\n",
    "grid=[[a for a in i] for i in x.split(\"\\n\")]\n",
    "\n",
    "for i in range(len(grid)):\n",
    "    for j in range(len(grid[0])):\n",
    "        if grid[i][j]==\"@\":\n",
    "            x,y=i,j\n",
    "            break\n",
    "\n",
    "pos(x,y,grid,instructions)\n",
    "ans=0\n",
    "for i in range(len(grid)):\n",
    "    for j in range(len(grid[0])):\n",
    "        if grid[i][j]==\"O\":\n",
    "            ans+=100*i+j\n",
    "\n",
    "print(ans)"
   ]
  },
  {
   "cell_type": "code",
   "execution_count": null,
   "metadata": {},
   "outputs": [
    {
     "name": "stdout",
     "output_type": "stream",
     "text": [
      "1482350\n"
     ]
    }
   ],
   "source": [
    "#Problem 2\n",
    "\n",
    "with open(\"inputd15.txt\") as file:\n",
    "    x,instructions=file.read().split(\"\\n\\n\")\n",
    "\n",
    "g=[[a for a in i] for i in x.split(\"\\n\")]\n",
    "\n",
    "grid=[]\n",
    "for r in g:\n",
    "    nr=[]\n",
    "    for a in r:\n",
    "        if a==\"O\":\n",
    "            nr.append(\"[\")\n",
    "            nr.append(\"]\")\n",
    "        elif a==\"#\":\n",
    "            nr.append(\"#\")\n",
    "            nr.append(\"#\")\n",
    "        elif a==\"@\":\n",
    "            nr.append(\"@\")\n",
    "            nr.append(\".\")\n",
    "        elif a==\".\":\n",
    "            nr.append(\".\")\n",
    "            nr.append(\".\")\n",
    "    grid.append(nr)\n",
    "\n",
    "n,m=len(grid),len(grid[0])\n",
    "\n",
    "for i in range(n):\n",
    "    for j in range(m):\n",
    "        if grid[i][j]==\"@\":\n",
    "            cx,cy=i,j\n",
    "            break\n",
    "\n",
    "directions={\">\":[0,1],\"v\":[1,0],\"<\":[0,-1],\"^\":[-1,0]}\n",
    "\n",
    "for move in instructions.replace(\"\\n\",\"\"):\n",
    "    dx,dy=directions[move]\n",
    "\n",
    "    c2m=[(cx,cy)]\n",
    "    i=0\n",
    "    cantmove=False\n",
    "    while i<len(c2m):\n",
    "        x,y=c2m[i]\n",
    "        nx,ny=x+dx,y+dy\n",
    "        if grid[nx][ny] in \"[]\":\n",
    "            if (nx,ny) not in c2m:\n",
    "                c2m.append((nx,ny))\n",
    "                if grid[nx][ny]==\"[\":\n",
    "                    if (nx,ny+1) not in c2m:\n",
    "                        c2m.append((nx,ny+1))\n",
    "                if grid[nx][ny]==\"]\":\n",
    "                    if (nx,ny-1) not in c2m:\n",
    "                        c2m.append((nx,ny-1))\n",
    "        elif grid[nx][ny]==\"#\":\n",
    "            cantmove=True\n",
    "            break\n",
    "        i+=1\n",
    "    if cantmove:\n",
    "        continue\n",
    "    ngrid=[[grid[i][j] for j in range(m)] for i in range(n)]\n",
    "    for x,y in c2m:\n",
    "        ngrid[x][y]=\".\"\n",
    "    for x,y in c2m:\n",
    "        ngrid[x+dx][y+dy] = grid[x][y]\n",
    "    grid=ngrid\n",
    "    cx+=dx\n",
    "    cy+=dy\n",
    "\n",
    "ans=0\n",
    "for i in range(n):\n",
    "    for j in range(m):\n",
    "        if ngrid[i][j]==\"[\":\n",
    "            ans+=100*i+j\n",
    "\n",
    "print(ans)"
   ]
  }
 ],
 "metadata": {
  "kernelspec": {
   "display_name": "Python 3",
   "language": "python",
   "name": "python3"
  },
  "language_info": {
   "codemirror_mode": {
    "name": "ipython",
    "version": 3
   },
   "file_extension": ".py",
   "mimetype": "text/x-python",
   "name": "python",
   "nbconvert_exporter": "python",
   "pygments_lexer": "ipython3",
   "version": "3.12.5"
  }
 },
 "nbformat": 4,
 "nbformat_minor": 2
}
