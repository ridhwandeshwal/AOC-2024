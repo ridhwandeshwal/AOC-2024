{
 "cells": [
  {
   "cell_type": "code",
   "execution_count": 1,
   "metadata": {},
   "outputs": [
    {
     "name": "stdout",
     "output_type": "stream",
     "text": [
      "Hello, world!\n"
     ]
    }
   ],
   "source": [
    "print(\"Hello, world!\")"
   ]
  },
  {
   "cell_type": "code",
   "execution_count": 1,
   "metadata": {},
   "outputs": [
    {
     "name": "stdout",
     "output_type": "stream",
     "text": [
      "789\n"
     ]
    }
   ],
   "source": [
    "#Problem 1\n",
    "\n",
    "with open(\"inputd10.txt\") as fin:\n",
    "    grid = fin.read().strip().split(\"\\n\")\n",
    "\n",
    "n = len(grid)\n",
    "\n",
    "dd = [[0, 1], [1, 0], [0, -1], [-1, 0]]\n",
    "def in_grid(i, j):\n",
    "    return (0 <= i < n) and (0 <= j < n)\n",
    "\n",
    "def score(i, j):\n",
    "\n",
    "    if grid[i][j] != \"0\":\n",
    "        return 0\n",
    "    \n",
    "    ans = 0\n",
    "    \n",
    "    stack = [(i, j)]\n",
    "    visited = set()\n",
    "    while len(stack) > 0:\n",
    "        curi, curj = stack.pop()\n",
    "        cur = int(grid[curi][curj])\n",
    "\n",
    "        if cur == 9:\n",
    "            visited.add((curi,curj))\n",
    "            continue\n",
    "\n",
    "        for di, dj in dd:\n",
    "            ii, jj = curi + di, curj + dj\n",
    "            \n",
    "            if not in_grid(ii, jj):\n",
    "                continue\n",
    "\n",
    "            nbr = int(grid[ii][jj])\n",
    "            if nbr != cur + 1:\n",
    "                continue\n",
    "            stack.append((ii, jj))\n",
    "\n",
    "    return len(visited)\n",
    "\n",
    "ans = 0\n",
    "for i in range(n):\n",
    "    for j in range(n):\n",
    "        ans += score(i, j)\n",
    "\n",
    "print(ans)"
   ]
  },
  {
   "cell_type": "code",
   "execution_count": 2,
   "metadata": {},
   "outputs": [
    {
     "name": "stdout",
     "output_type": "stream",
     "text": [
      "1735\n"
     ]
    }
   ],
   "source": [
    "#Problem 2\n",
    "\n",
    "with open(\"inputd10.txt\") as fin:\n",
    "    grid = fin.read().strip().split(\"\\n\")\n",
    "\n",
    "n = len(grid)\n",
    "\n",
    "dd = [[0, 1], [1, 0], [0, -1], [-1, 0]]\n",
    "def in_grid(i, j):\n",
    "    return (0 <= i < n) and (0 <= j < n)\n",
    "\n",
    "def score(i, j):\n",
    "\n",
    "    if grid[i][j] != \"0\":\n",
    "        return 0\n",
    "    \n",
    "    ans = 0\n",
    "    \n",
    "    stack = [(i, j)]\n",
    "    visited = set()\n",
    "    while len(stack) > 0:\n",
    "        curi, curj = stack.pop()\n",
    "        cur = int(grid[curi][curj])\n",
    "\n",
    "        if cur == 9:\n",
    "            ans += 1\n",
    "            continue\n",
    "\n",
    "        for di, dj in dd:\n",
    "            ii, jj = curi + di, curj + dj\n",
    "            \n",
    "            if not in_grid(ii, jj):\n",
    "                continue\n",
    "\n",
    "            nbr = int(grid[ii][jj])\n",
    "            if nbr != cur + 1:\n",
    "                continue\n",
    "            stack.append((ii, jj))\n",
    "\n",
    "    return ans\n",
    "\n",
    "\n",
    "ans = 0\n",
    "for i in range(n):\n",
    "    for j in range(n):\n",
    "        ans += score(i, j)\n",
    "\n",
    "print(ans)\n"
   ]
  }
 ],
 "metadata": {
  "kernelspec": {
   "display_name": "Python 3",
   "language": "python",
   "name": "python3"
  },
  "language_info": {
   "codemirror_mode": {
    "name": "ipython",
    "version": 3
   },
   "file_extension": ".py",
   "mimetype": "text/x-python",
   "name": "python",
   "nbconvert_exporter": "python",
   "pygments_lexer": "ipython3",
   "version": "3.12.5"
  }
 },
 "nbformat": 4,
 "nbformat_minor": 2
}
